{
 "cells": [
  {
   "cell_type": "markdown",
   "metadata": {},
   "source": [
    "## Case Study 1: Finding the winning strategy in a card game"
   ]
  },
  {
   "attachments": {},
   "cell_type": "markdown",
   "metadata": {},
   "source": [
    "1 | Computing probabilities using Python"
   ]
  },
  {
   "cell_type": "code",
   "execution_count": 2,
   "metadata": {},
   "outputs": [],
   "source": [
    "# 1.1 Sample space analysis: An equation-free approach for measuring uncertainty in outcomes  \n",
    "sample_space = {'Heads', 'Tails'}"
   ]
  },
  {
   "cell_type": "code",
   "execution_count": 3,
   "metadata": {},
   "outputs": [
    {
     "name": "stdout",
     "output_type": "stream",
     "text": [
      "{'Tails', 'Heads'}\n"
     ]
    }
   ],
   "source": [
    "print(sample_space)"
   ]
  },
  {
   "cell_type": "code",
   "execution_count": 4,
   "metadata": {},
   "outputs": [
    {
     "name": "stdout",
     "output_type": "stream",
     "text": [
      "Probability of choosing heads is 0.5\n"
     ]
    }
   ],
   "source": [
    "probability_heads = 1 / len(sample_space)\n",
    "print(f'Probability of choosing heads is {probability_heads}')"
   ]
  },
  {
   "cell_type": "code",
   "execution_count": 5,
   "metadata": {},
   "outputs": [],
   "source": [
    "#1.3 \n",
    "\n",
    "def is_heads_or_tails(outcome):\n",
    "  return outcome in {'Heads', 'Tails'}\n",
    "\n",
    "def is_neither(outcome):\n",
    "  return not is_heads_or_tails(outcome)\n",
    "\n",
    "#1.4 \n",
    "\n",
    "def is_heads(outcome):\n",
    "  return outcome == 'Heads'\n",
    "\n",
    "def is_tails(outcome):\n",
    "  return outcome == 'Tails'"
   ]
  },
  {
   "cell_type": "code",
   "execution_count": 6,
   "metadata": {},
   "outputs": [],
   "source": [
    "#1.5\n",
    "\n",
    "def get_matching_event(event_condition, sample_space):\n",
    "  return set([outcome for outcome in sample_space\n",
    "          if event_condition(outcome)])\n"
   ]
  },
  {
   "cell_type": "code",
   "execution_count": 7,
   "metadata": {},
   "outputs": [
    {
     "name": "stdout",
     "output_type": "stream",
     "text": [
      "Event Condition: is_heads_or_tails\n",
      "Event: {'Heads', 'Tails'}\n",
      "\n",
      "Event Condition: is_heads\n",
      "Event: {'Heads'}\n",
      "\n",
      "Event Condition: is_tails\n",
      "Event: {'Tails'}\n",
      "\n",
      "Event Condition: is_neither\n",
      "Event: set()\n",
      "\n"
     ]
    }
   ],
   "source": [
    "#1.6 \n",
    "\n",
    "event_conditions = [is_heads_or_tails, is_heads, is_tails, is_neither]\n",
    "\n",
    "for event_condition in event_conditions:\n",
    "  print(f\"Event Condition: {event_condition.__name__}\")\n",
    "  event = get_matching_event(event_condition, sample_space)\n",
    "  print(f'Event: {event}\\n')\n"
   ]
  },
  {
   "cell_type": "code",
   "execution_count": 8,
   "metadata": {},
   "outputs": [
    {
     "name": "stdout",
     "output_type": "stream",
     "text": [
      "Probability of event arising from 'is_heads_or_tails' is '1.0'\n",
      "Probability of event arising from 'is_heads' is '0.5'\n",
      "Probability of event arising from 'is_tails' is '0.5'\n",
      "Probability of event arising from 'is_neither' is '0.0'\n"
     ]
    }
   ],
   "source": [
    "#1.7\n",
    "\n",
    "def compute_probability(event_condition, generic_sample_space):\n",
    "  event = get_matching_event(event_condition, generic_sample_space)\n",
    "  return len(event) / len(generic_sample_space)\n",
    "\n",
    "for event_condition in event_conditions:\n",
    "  prob = compute_probability(event_condition, sample_space)\n",
    "  name = event_condition.__name__\n",
    "  print(f\"Probability of event arising from '{name}' is '{prob}'\" )"
   ]
  },
  {
   "attachments": {},
   "cell_type": "markdown",
   "metadata": {},
   "source": [
    "1.1.1 Analyzing a biased coin\n"
   ]
  },
  {
   "cell_type": "code",
   "execution_count": 9,
   "metadata": {},
   "outputs": [],
   "source": [
    "#1.8\n",
    "\n",
    "weighted_sample_space = {'Heads': 4, 'Tails': 1}"
   ]
  },
  {
   "cell_type": "code",
   "execution_count": 10,
   "metadata": {},
   "outputs": [],
   "source": [
    "#1.9 \n",
    "\n",
    "sample_space_size = sum(weighted_sample_space.values())\n",
    "assert sample_space_size == 5"
   ]
  },
  {
   "cell_type": "code",
   "execution_count": 11,
   "metadata": {},
   "outputs": [],
   "source": [
    "#1.10 \n",
    "\n",
    "event = get_matching_event(is_heads_or_tails, weighted_sample_space)\n",
    "event_size = sum(weighted_sample_space[outcome] for outcome in event)\n",
    "assert event_size == 5"
   ]
  },
  {
   "cell_type": "code",
   "execution_count": 12,
   "metadata": {},
   "outputs": [],
   "source": [
    "#1.11\n",
    "\n",
    "def compute_event_probability(event_condition, generic_sample_space):\n",
    "  event = get_matching_event(event_condition, generic_sample_space)\n",
    "  if type(generic_sample_space) == type(set()):\n",
    "    return len(event) / len(generic_sample_space)\n",
    "  event_size = sum(generic_sample_space[outcome]\n",
    "                 for outcome in event)\n",
    "  return event_size / sum(generic_sample_space.values()) \n"
   ]
  },
  {
   "cell_type": "code",
   "execution_count": 13,
   "metadata": {},
   "outputs": [
    {
     "name": "stdout",
     "output_type": "stream",
     "text": [
      "Probability of event arising from 'is_heads_or_tails' is '1.0'\n",
      "Probability of event arising from 'is_heads' is '0.8'\n",
      "Probability of event arising from 'is_tails' is '0.2'\n",
      "Probability of event arising from 'is_neither' is '0.0'\n"
     ]
    }
   ],
   "source": [
    "for event_condition in event_conditions:\n",
    "  prob = compute_event_probability(event_condition, weighted_sample_space)\n",
    "  name = event_condition.__name__\n",
    "  print(f\"Probability of event arising from '{name}' is '{prob}'\")\n"
   ]
  },
  {
   "cell_type": "code",
   "execution_count": 15,
   "metadata": {},
   "outputs": [
    {
     "name": "stdout",
     "output_type": "stream",
     "text": [
      "Probability of event arising from 'is_heads_or_tails' is '1.0'\n",
      "Probability of event arising from 'is_heads' is '0.5'\n",
      "Probability of event arising from 'is_tails' is '0.5'\n",
      "Probability of event arising from 'is_neither' is '0.0'\n"
     ]
    }
   ],
   "source": [
    "for event_condition in event_conditions:\n",
    "  prob = compute_event_probability(event_condition, sample_space)\n",
    "  name = event_condition.__name__\n",
    "  print(f\"Probability of event arising from '{name}' is '{prob}'\")"
   ]
  },
  {
   "attachments": {},
   "cell_type": "markdown",
   "metadata": {},
   "source": [
    "1.2 Computing nontrivial probabilities "
   ]
  },
  {
   "cell_type": "code",
   "execution_count": 41,
   "metadata": {},
   "outputs": [],
   "source": [
    "possible_children = ['Boy', 'Girl']\n",
    "sample_space = set()\n",
    "for child1 in possible_children:\n",
    "  for child2 in possible_children:\n",
    "    for child3 in possible_children:\n",
    "      for child4 in possible_children:\n",
    "        for child5 in possible_children:\n",
    "          outcome = (child1, child2, child3, child4, child5)\n",
    "          sample_space.add(outcome)\n",
    "          "
   ]
  },
  {
   "cell_type": "code",
   "execution_count": 42,
   "metadata": {},
   "outputs": [],
   "source": [
    "#1.14 itertools\n",
    "\n",
    "from itertools import product\n",
    "\n",
    "all_combinations = product(* (5 * [possible_children]))\n",
    "assert set(all_combinations) == sample_space\n"
   ]
  },
  {
   "cell_type": "code",
   "execution_count": 43,
   "metadata": {},
   "outputs": [
    {
     "name": "stdout",
     "output_type": "stream",
     "text": [
      "{('Boy', 'Girl', 'Girl', 'Girl', 'Girl'), ('Boy', 'Boy', 'Girl', 'Boy', 'Girl'), ('Boy', 'Boy', 'Girl', 'Girl', 'Girl'), ('Boy', 'Girl', 'Girl', 'Boy', 'Girl'), ('Girl', 'Boy', 'Girl', 'Boy', 'Girl'), ('Girl', 'Girl', 'Boy', 'Girl', 'Girl'), ('Girl', 'Boy', 'Boy', 'Girl', 'Girl'), ('Boy', 'Boy', 'Boy', 'Girl', 'Boy'), ('Girl', 'Girl', 'Boy', 'Boy', 'Girl'), ('Boy', 'Girl', 'Boy', 'Boy', 'Girl'), ('Boy', 'Girl', 'Boy', 'Girl', 'Girl'), ('Girl', 'Girl', 'Girl', 'Girl', 'Boy'), ('Girl', 'Boy', 'Boy', 'Boy', 'Girl'), ('Girl', 'Boy', 'Girl', 'Girl', 'Boy'), ('Boy', 'Boy', 'Boy', 'Boy', 'Boy'), ('Girl', 'Girl', 'Girl', 'Boy', 'Boy'), ('Boy', 'Girl', 'Girl', 'Girl', 'Boy'), ('Boy', 'Boy', 'Girl', 'Boy', 'Boy'), ('Boy', 'Boy', 'Girl', 'Girl', 'Boy'), ('Boy', 'Girl', 'Girl', 'Boy', 'Boy'), ('Girl', 'Boy', 'Girl', 'Boy', 'Boy'), ('Girl', 'Girl', 'Boy', 'Girl', 'Boy'), ('Girl', 'Boy', 'Boy', 'Girl', 'Boy'), ('Boy', 'Boy', 'Boy', 'Girl', 'Girl'), ('Girl', 'Girl', 'Girl', 'Girl', 'Girl'), ('Girl', 'Girl', 'Boy', 'Boy', 'Boy'), ('Boy', 'Girl', 'Boy', 'Boy', 'Boy'), ('Boy', 'Girl', 'Boy', 'Girl', 'Boy'), ('Girl', 'Boy', 'Boy', 'Boy', 'Boy'), ('Girl', 'Boy', 'Girl', 'Girl', 'Girl'), ('Boy', 'Boy', 'Boy', 'Boy', 'Girl'), ('Girl', 'Girl', 'Girl', 'Boy', 'Girl')}\n"
     ]
    }
   ],
   "source": [
    "print(sample_space)"
   ]
  },
  {
   "cell_type": "code",
   "execution_count": 44,
   "metadata": {},
   "outputs": [],
   "source": [
    "sample_space_efficient = set(product(possible_children, repeat=5))\n",
    "assert sample_space == sample_space_efficient"
   ]
  },
  {
   "cell_type": "code",
   "execution_count": 47,
   "metadata": {},
   "outputs": [
    {
     "name": "stdout",
     "output_type": "stream",
     "text": [
      "Probability of 5 girls is 0.03125\n"
     ]
    }
   ],
   "source": [
    "#1.16 2 boys\n",
    "\n",
    "def has_two_boys(outcome): \n",
    "  return len([child for child in outcome\n",
    "                  if child == 'Girl']) == 5\n",
    "\n",
    "prob = compute_event_probability(has_two_boys, sample_space)\n",
    "print(f\"Probability of 5 girls is {prob}\")"
   ]
  },
  {
   "cell_type": "code",
   "execution_count": 49,
   "metadata": {},
   "outputs": [
    {
     "name": "stdout",
     "output_type": "stream",
     "text": [
      "[1, 2, 3, 4, 5, 6]\n"
     ]
    }
   ],
   "source": [
    "# 1.2.2 multiple die rolls\n",
    "\n",
    "possible_rolls = list(range(1,7))\n",
    "print(possible_rolls)"
   ]
  },
  {
   "cell_type": "code",
   "execution_count": 50,
   "metadata": {},
   "outputs": [],
   "source": [
    "#1.18\n",
    "\n",
    "sample_space = set(product(possible_rolls, repeat=6))"
   ]
  },
  {
   "cell_type": "code",
   "execution_count": 60,
   "metadata": {},
   "outputs": [
    {
     "name": "stdout",
     "output_type": "stream",
     "text": [
      "6 rolls sum to 21 with a probability of 0.09284979423868313\n"
     ]
    }
   ],
   "source": [
    "def has_sum_of_21(outcome):\n",
    "  return sum(outcome) == 21\n",
    "\n",
    "prob = compute_event_probability(has_sum_of_21, sample_space)\n",
    "print(f'6 rolls sum to 21 with a probability of {prob}')\n"
   ]
  },
  {
   "cell_type": "code",
   "execution_count": 62,
   "metadata": {},
   "outputs": [
    {
     "name": "stdout",
     "output_type": "stream",
     "text": [
      "6 rolls sum to 21 with a probability of 0.09284979423868313\n"
     ]
    }
   ],
   "source": [
    "prob = compute_event_probability(lambda x: sum(x) == 21, sample_space)\n",
    "assert prob == compute_event_probability(has_sum_of_21, sample_space)\n",
    "\n",
    "print(f'6 rolls sum to 21 with a probability of {prob}')\n"
   ]
  },
  {
   "cell_type": "code",
   "execution_count": 63,
   "metadata": {},
   "outputs": [],
   "source": [
    "#1.2.3 die-roll weighted sample spaces\n",
    "\n",
    "from collections import defaultdict\n",
    "weighted_sample_space = defaultdict(int)\n",
    "\n",
    "for outcome in sample_space:\n",
    "  total = sum(outcome)\n",
    "  weighted_sample_space[total] += 1"
   ]
  },
  {
   "cell_type": "code",
   "execution_count": 66,
   "metadata": {},
   "outputs": [
    {
     "name": "stdout",
     "output_type": "stream",
     "text": [
      "defaultdict(<class 'int'>, {21: 4332, 22: 4221, 27: 1666, 12: 456, 24: 3431, 19: 3906, 18: 3431, 20: 4221, 23: 3906, 26: 2247, 28: 1161, 15: 1666, 17: 2856, 13: 756, 14: 1161, 30: 456, 16: 2247, 25: 2856, 9: 56, 32: 126, 31: 252, 29: 756, 11: 252, 33: 56, 10: 126, 7: 6, 35: 6, 8: 21, 34: 21, 6: 1, 36: 1})\n"
     ]
    }
   ],
   "source": [
    "print(weighted_sample_space)"
   ]
  },
  {
   "cell_type": "code",
   "execution_count": 64,
   "metadata": {},
   "outputs": [],
   "source": [
    "#1.22\n",
    "\n",
    "assert weighted_sample_space[6] == 1\n",
    "assert weighted_sample_space[36] == 1"
   ]
  },
  {
   "cell_type": "code",
   "execution_count": 65,
   "metadata": {},
   "outputs": [
    {
     "name": "stdout",
     "output_type": "stream",
     "text": [
      "There are 4332 ways for 6 die rolls to sum to 21\n"
     ]
    }
   ],
   "source": [
    "num_combinations = weighted_sample_space[21]\n",
    "print(f'There are {num_combinations} ways for 6 die rolls to sum to 21')"
   ]
  },
  {
   "cell_type": "code",
   "execution_count": 67,
   "metadata": {},
   "outputs": [
    {
     "name": "stdout",
     "output_type": "stream",
     "text": [
      "6 rolls sum to 21 with a probability of 0.09284979423868313\n"
     ]
    }
   ],
   "source": [
    "#1.26 \n",
    "\n",
    "prob = compute_event_probability(lambda x: x == 21, \n",
    "                                weighted_sample_space)\n",
    "assert prob == compute_event_probability(has_sum_of_21, sample_space)\n",
    "print(f'6 rolls sum to 21 with a probability of {prob}')\n"
   ]
  },
  {
   "cell_type": "code",
   "execution_count": 70,
   "metadata": {},
   "outputs": [
    {
     "name": "stdout",
     "output_type": "stream",
     "text": [
      "Num elements unweighted sample space: 46656\n",
      "Num elements weighted sample space: 31\n"
     ]
    }
   ],
   "source": [
    "print('Num elements unweighted sample space:', len(sample_space))\n",
    "\n",
    "print('Num elements weighted sample space:', len(weighted_sample_space))\n"
   ]
  },
  {
   "cell_type": "code",
   "execution_count": 72,
   "metadata": {},
   "outputs": [],
   "source": [
    "#1.3 interval ranges\n",
    "\n",
    "def is_in_interval(num, min, max):\n",
    "  return min <= num <= max\n",
    "\n"
   ]
  },
  {
   "cell_type": "code",
   "execution_count": 75,
   "metadata": {},
   "outputs": [
    {
     "name": "stdout",
     "output_type": "stream",
     "text": [
      "prob interval is 0.5446244855967078\n"
     ]
    }
   ],
   "source": [
    "prob = compute_event_probability(lambda x: is_in_interval(x, 10, 21), weighted_sample_space)\n",
    "print(f'prob interval is {prob}')"
   ]
  },
  {
   "cell_type": "code",
   "execution_count": 83,
   "metadata": {},
   "outputs": [],
   "source": [
    "#1.2.1 extremes interval\n",
    "\n",
    "def generate_coin_sample_space(num_flips=10):\n",
    "  weighted_sample_space = defaultdict(int)\n",
    "  for coin_flips in product(['Heads', 'Tails'], repeat=num_flips):\n",
    "    heads_count = len([outcome for outcome in coin_flips\n",
    "                          if outcome == 'Heads'])\n",
    "    weighted_sample_space[heads_count] += 1\n",
    "  return weighted_sample_space\n",
    "  \n",
    "weighted_sample_space = generate_coin_sample_space()\n",
    "assert weighted_sample_space[10] == 1\n",
    "assert weighted_sample_space[9] == 10\n"
   ]
  },
  {
   "cell_type": "code",
   "execution_count": 85,
   "metadata": {},
   "outputs": [
    {
     "name": "stdout",
     "output_type": "stream",
     "text": [
      "Prob more than 7 heads is 0.0546875\n"
     ]
    }
   ],
   "source": [
    "prob = compute_event_probability(lambda x: is_in_interval(x, 8, 10), weighted_sample_space)\n",
    "print(f'Prob more than 7 heads is {prob}')"
   ]
  },
  {
   "cell_type": "code",
   "execution_count": 86,
   "metadata": {},
   "outputs": [
    {
     "name": "stdout",
     "output_type": "stream",
     "text": [
      "prob 7+ heads or tails is 0.109375\n"
     ]
    }
   ],
   "source": [
    "prob = compute_event_probability(lambda x: not is_in_interval(x, 3, 7), weighted_sample_space)\n",
    "print(f'prob 7+ heads or tails is {prob}')\n"
   ]
  },
  {
   "cell_type": "code",
   "execution_count": 89,
   "metadata": {},
   "outputs": [
    {
     "name": "stdout",
     "output_type": "stream",
     "text": [
      "prob 15+ h/t in 20 flips is 0.01181793212890625\n"
     ]
    }
   ],
   "source": [
    "weighted_sample_space_20_flips = generate_coin_sample_space(num_flips=20)\n",
    "prob = compute_event_probability(lambda x: not is_in_interval(x, 5, 15), weighted_sample_space_20_flips)\n",
    "print(f'prob 15+ h/t in 20 flips is {prob}')"
   ]
  },
  {
   "cell_type": "code",
   "execution_count": null,
   "metadata": {},
   "outputs": [],
   "source": []
  }
 ],
 "metadata": {
  "kernelspec": {
   "display_name": "Python 3 (deep_learning)",
   "language": "python",
   "name": "deep_learning"
  },
  "language_info": {
   "codemirror_mode": {
    "name": "ipython",
    "version": 3
   },
   "file_extension": ".py",
   "mimetype": "text/x-python",
   "name": "python",
   "nbconvert_exporter": "python",
   "pygments_lexer": "ipython3",
   "version": "3.8.12"
  },
  "orig_nbformat": 4,
  "vscode": {
   "interpreter": {
    "hash": "31f2aee4e71d21fbe5cf8b01ff0e069b9275f58929596ceb00d14d90e3e16cd6"
   }
  }
 },
 "nbformat": 4,
 "nbformat_minor": 2
}
